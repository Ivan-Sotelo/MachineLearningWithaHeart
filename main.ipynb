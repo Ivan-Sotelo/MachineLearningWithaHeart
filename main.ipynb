{
 "cells": [
  {
   "cell_type": "code",
   "execution_count": 1,
   "metadata": {},
   "outputs": [
    {
     "name": "stderr",
     "output_type": "stream",
     "text": [
      "Using TensorFlow backend.\n"
     ]
    }
   ],
   "source": [
    "from pathlib import Path\n",
    "from sklearn.model_selection import train_test_split\n",
    "import numpy as np\n",
    "from livelossplot.keras import PlotLossesCallback\n",
    "import matplotlib.pyplot as plt\n",
    "import seaborn as sns\n",
    "\n",
    "from hyperas.distributions import uniform, choice\n",
    "from hyperopt import Trials, STATUS_OK, tpe\n",
    "from hyperas import optim\n",
    "import numpy as np\n",
    "from sklearn.preprocessing import MinMaxScaler\n",
    "\n",
    "from keras.models import Sequential\n",
    "from keras.utils import np_utils\n",
    "from keras.preprocessing.image import ImageDataGenerator\n",
    "from keras.layers import Dense, Activation, Flatten, Dropout, BatchNormalization, Conv2D, MaxPooling2D, Input\n",
    "from keras import regularizers\n",
    "from keras.callbacks import LearningRateScheduler, Callback\n",
    "from keras.models import model_from_json\n",
    "\n",
    "import numpy as np\n",
    "import pandas as pd\n",
    "import os\n",
    "import sys\n",
    "import matplotlib.pyplot as plt\n",
    "import seaborn as sns\n",
    "import keras"
   ]
  },
  {
   "cell_type": "code",
   "execution_count": 2,
   "metadata": {},
   "outputs": [],
   "source": [
    "## For reproducibility\n",
    "from numpy.random import seed\n",
    "seed(9251996)"
   ]
  },
  {
   "cell_type": "code",
   "execution_count": 3,
   "metadata": {},
   "outputs": [],
   "source": [
    "def lr_schedule(epoch):\n",
    "    lrate = 0.001\n",
    "    if epoch > 40:\n",
    "        lrate = 0.0005\n",
    "    if epoch > 60:\n",
    "        lrate = 0.0003\n",
    "    if epoch > 80:\n",
    "        lrate = 0.0001\n",
    "    if epoch > 100:\n",
    "        lrate = 0.00003  \n",
    "    return lrate"
   ]
  },
  {
   "cell_type": "code",
   "execution_count": 4,
   "metadata": {},
   "outputs": [],
   "source": [
    "def data():\n",
    "    train_values = pd.read_csv('train_values.csv', index_col='patient_id')\n",
    "    train_labels = pd.read_csv('train_labels.csv', index_col='patient_id')\n",
    "    train_labels.heart_disease_present.value_counts().plot.bar(title='Number with Heart Disease')\n",
    "    #selected_features = ['age', \n",
    "    #                     'sex', \n",
    "    #                     'max_heart_rate_achieved', \n",
    "    #                     'resting_blood_pressure']\n",
    "    selected_features =['slope_of_peak_exercise_st_segment',\n",
    "    'resting_blood_pressure',\n",
    "    'chest_pain_type',\n",
    "    'num_major_vessels',\n",
    "    'fasting_blood_sugar_gt_120_mg_per_dl',\n",
    "    'resting_ekg_results',\n",
    "    'serum_cholesterol_mg_per_dl',\n",
    "    'oldpeak_eq_st_depression',\n",
    "    'sex',\n",
    "    'age',\n",
    "    'max_heart_rate_achieved',\n",
    "    'exercise_induced_angina']\n",
    "    train_values_subset = train_values[selected_features]\n",
    "    predictors =train_values_subset\n",
    "    target = train_labels.heart_disease_present\n",
    "    X_train,X_val,Y_train,Y_val = train_test_split(predictors,target,test_size=0.10,random_state=0)\n",
    "\n",
    "    return X_train, Y_train,X_val,Y_val"
   ]
  },
  {
   "cell_type": "code",
   "execution_count": 5,
   "metadata": {},
   "outputs": [],
   "source": [
    "def create_model(X_train, Y_train,X_val,Y_val):\n",
    "    \"\"\"\n",
    "    Keras model function.\n",
    "    \"\"\"\n",
    "\n",
    "    inshape = 12\n",
    "    outshape = 1\n",
    "    min_hlayers=3\n",
    "\n",
    "    model = Sequential()\n",
    "    for i in range(min_hlayers):\n",
    "        if i==0:\n",
    "            model.add(Dense({{ choice(range(1024)) }},input_shape=(inshape,)))\n",
    "            model.add(Activation({{ choice(['relu','elu']) }})) ## Choose between relu or signmoid activation\n",
    "            model.add(Dropout({{ uniform(0,1) }})) ## Choose dropout value using uniform distribution of values from 0 to 1\n",
    "        else:\n",
    "            model.add(Dense({{ choice(range(1024)) }}))\n",
    "            model.add(Activation({{ choice(['relu','elu']) }}))\n",
    "            model.add(Dropout({{ uniform(0,1) }}))\n",
    "\n",
    "    model.add(Dense(outshape))\n",
    "    model.add(Activation('sigmoid'))\n",
    "   #model.add(Activation({{choice(['softmax','sigmoid']) }}))\n",
    "\n",
    "    ## Hyperparameterization of optimizers and learning rate\n",
    "    _adam = keras.optimizers.Adam(lr={{choice([10**-3, 10**-2, 10**-1])}})\n",
    "    _rmsprop = keras.optimizers.RMSprop(lr={{choice([10**-3, 10**-2, 10**-1])}})\n",
    "    _sgd = keras.optimizers.SGD(lr={{choice([10**-3, 10**-2, 10**-1])}})\n",
    "\n",
    "    opt_choiceval = {{ choice( ['_adam', '_rmsprop', '_sgd'] ) }}\n",
    "\n",
    "    if opt_choiceval == '_adam':\n",
    "        optim = _adam\n",
    "    elif opt_choiceval == '_rmsprop':\n",
    "        optim = _rmsprop\n",
    "    else:\n",
    "        optim = _sgd\n",
    "                      \n",
    "    model.summary()\n",
    "    model.compile(loss='binary_crossentropy', metrics=['accuracy'],optimizer=optim)\n",
    "                      \n",
    "    model.fit(X_train, Y_train,\n",
    "        batch_size=256,\n",
    "        epochs=125,\n",
    "        verbose=2,\n",
    "        validation_data=(X_val, Y_val), callbacks=[PlotLossesCallback()])\n",
    "\n",
    "    loss, acc = model.evaluate(X_val, Y_val)\n",
    "    predicted = model.predict(X_val)\n",
    "\n",
    "    print('Test accuracy:', loss)\n",
    "    return {'loss': 0+loss, 'status': STATUS_OK, 'model': model}\n"
   ]
  },
  {
   "cell_type": "code",
   "execution_count": 6,
   "metadata": {},
   "outputs": [],
   "source": [
    "def main():\n",
    "\n",
    "    trials =Trials()\n",
    "    best_run, best_model = optim.minimize(model=create_model,\n",
    "                                          data=data,\n",
    "                                          algo=tpe.suggest,\n",
    "                                          max_evals=100,\n",
    "                                          trials=trials,\n",
    "                                        notebook_name='main')\n",
    "    X_train, Y_train, X_val, Y_val = data()\n",
    "    print(\"\\n >> Hyperparameters  \")\n",
    "    for t in best_run.items():\n",
    "        print(\"[**] \",t[0],\": \", t[1])\n",
    "\n",
    "    print(\"\\nSaving model...\")\n",
    "    model_json = best_model.to_json()\n",
    "    with open(\"model_num.json\",\"w\") as json_file:\n",
    "        json_file.write(model_json)\n",
    "    best_model.save_weights(\"model_num.h5\")\n"
   ]
  },
  {
   "cell_type": "code",
   "execution_count": 7,
   "metadata": {},
   "outputs": [],
   "source": [
    "def predict():\n",
    "    selected_features =['slope_of_peak_exercise_st_segment',\n",
    "    'resting_blood_pressure',\n",
    "    'chest_pain_type',\n",
    "    'num_major_vessels',\n",
    "    'fasting_blood_sugar_gt_120_mg_per_dl',\n",
    "    'resting_ekg_results',\n",
    "    'serum_cholesterol_mg_per_dl',\n",
    "    'oldpeak_eq_st_depression',\n",
    "    'sex',\n",
    "    'age',\n",
    "    'max_heart_rate_achieved',\n",
    "    'exercise_induced_angina']\n",
    "    test_values = pd.read_csv('test_values.csv', index_col='patient_id')\n",
    "    X_test = test_values[selected_features]\n",
    "    # name = sys.argv[1]\n",
    "    json_file = open(\"model_num.json\" , 'r')\n",
    "    loaded_model_json = json_file.read()\n",
    "    json_file.close()\n",
    "    loaded_model = model_from_json(loaded_model_json)\n",
    "    # load weights into new model\n",
    "    loaded_model.load_weights(\"model_num.h5\")\n",
    "    print(\"Loaded model...\")\n",
    "\n",
    "    # evaluate loaded model on test data\n",
    "\n",
    "    predictions=loaded_model.predict(X_test, batch_size=128)\n",
    "    submission_format = pd.read_csv('submission_format.csv', index_col='patient_id')\n",
    "    my_submission = pd.DataFrame(data=predictions,\n",
    "                         columns=submission_format.columns,\n",
    "                         index=submission_format.index)\n",
    "    my_submission.head()\n",
    "    my_submission.to_csv('submission5.csv')\n",
    "\n"
   ]
  },
  {
   "cell_type": "code",
   "execution_count": 8,
   "metadata": {},
   "outputs": [
    {
     "data": {
      "image/png": "[encoded data removed]",
      "text/plain": [
       "<Figure size 864x576 with 2 Axes>"
      ]
     },
     "metadata": {
      "needs_background": "light"
     },
     "output_type": "display_data"
    },
    {
     "name": "stdout",
     "output_type": "stream",
     "text": [
      "Log-loss (cost function):                                                      \n",
      "training   (min:    3.388, max:    8.760, cur:    8.660)\n",
      "validation (min:   10.628, max:   10.628, cur:   10.628)\n",
      "\n",
      "Accuracy:\n",
      "training   (min:    0.451, max:    0.568, cur:    0.457)\n",
      "validation (min:    0.333, max:    0.333, cur:    0.333)\n",
      "18/18 [==============================]                                         \n",
      " - 0s 1ms/step                                                                 \n",
      "\n",
      "Test accuracy:                                                                 \n",
      "10.628256797790527                                                             \n",
      "100%|███████| 100/100 [2:05:35<00:00, 86.74s/it, best loss: 0.6055876612663269]\n",
      "\n",
      " >> Hyperparameters  \n",
      "[**]  Activation :  1\n",
      "[**]  Activation_1 :  1\n",
      "[**]  Activation_2 :  0\n",
      "[**]  Dense :  652\n",
      "[**]  Dense_1 :  369\n",
      "[**]  Dropout :  0.16277122657207727\n",
      "[**]  Dropout_1 :  0.6669332967024697\n",
      "[**]  lr :  0\n",
      "[**]  lr_1 :  0\n",
      "[**]  lr_2 :  1\n",
      "[**]  opt_choiceval :  0\n",
      "\n",
      "Saving model...\n",
      "done.. Training\n",
      "Loaded model...\n"
     ]
    },
    {
     "data": {
      "image/png": "[encoded data removed]",
      "text/plain": [
       "<Figure size 432x288 with 1 Axes>"
      ]
     },
     "metadata": {
      "needs_background": "light"
     },
     "output_type": "display_data"
    }
   ],
   "source": [
    "main()\n",
    "print(\"done.. Training\")\n",
    "predict()"
   ]
  }
 ],
 "metadata": {
  "kernelspec": {
   "display_name": "Python 3",
   "language": "python",
   "name": "python3"
  },
  "language_info": {
   "codemirror_mode": {
    "name": "ipython",
    "version": 3
   },
   "file_extension": ".py",
   "mimetype": "text/x-python",
   "name": "python",
   "nbconvert_exporter": "python",
   "pygments_lexer": "ipython3",
   "version": "3.6.6"
  }
 },
 "nbformat": 4,
 "nbformat_minor": 2
}
